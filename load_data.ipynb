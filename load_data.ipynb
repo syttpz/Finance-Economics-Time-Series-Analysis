{
 "cells": [
  {
   "cell_type": "code",
   "execution_count": 3,
   "id": "922e8cfb-b475-4ba8-8104-4f2e1c75fc1f",
   "metadata": {},
   "outputs": [],
   "source": [
    "import pandas as pd\n",
    "import numpy as np"
   ]
  },
  {
   "cell_type": "code",
   "execution_count": null,
   "id": "cef99a26-d41c-430a-a4c5-4efe2184341a",
   "metadata": {},
   "outputs": [],
   "source": [
    "file_path = \"./finance_economics_dataset.csv\"\n",
    "\n",
    "df = p\n",
    "\n",
    "print(\"First 5 records:\", df.head())'"
   ]
  }
 ],
 "metadata": {
  "kernelspec": {
   "display_name": "Python 3 (ipykernel)",
   "language": "python",
   "name": "python3"
  },
  "language_info": {
   "codemirror_mode": {
    "name": "ipython",
    "version": 3
   },
   "file_extension": ".py",
   "mimetype": "text/x-python",
   "name": "python",
   "nbconvert_exporter": "python",
   "pygments_lexer": "ipython3",
   "version": "3.12.2"
  }
 },
 "nbformat": 4,
 "nbformat_minor": 5
}
